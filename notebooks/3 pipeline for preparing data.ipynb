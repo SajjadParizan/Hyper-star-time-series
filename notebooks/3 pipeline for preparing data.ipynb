{
 "cells": [
  {
   "cell_type": "code",
   "execution_count": 3,
   "id": "southeast-postage",
   "metadata": {},
   "outputs": [],
   "source": [
    "import numpy as np\n",
    "import pandas as pd\n",
    "import matplotlib.pyplot as plt\n",
    "import seaborn as sns\n",
    "%matplotlib inline\n",
    "sns.set()"
   ]
  },
  {
   "cell_type": "code",
   "execution_count": 4,
   "id": "stopped-entertainment",
   "metadata": {},
   "outputs": [],
   "source": [
    "from sklearn.base import BaseEstimator, TransformerMixin"
   ]
  },
  {
   "cell_type": "code",
   "execution_count": 5,
   "id": "aerial-saudi",
   "metadata": {},
   "outputs": [],
   "source": [
    "df=pd.read_csv(r'E:\\user\\hyper star qualifying task\\source\\data\\edited\\df1.csv')"
   ]
  },
  {
   "cell_type": "code",
   "execution_count": 6,
   "id": "decimal-algebra",
   "metadata": {},
   "outputs": [
    {
     "data": {
      "text/html": [
       "<div>\n",
       "<style scoped>\n",
       "    .dataframe tbody tr th:only-of-type {\n",
       "        vertical-align: middle;\n",
       "    }\n",
       "\n",
       "    .dataframe tbody tr th {\n",
       "        vertical-align: top;\n",
       "    }\n",
       "\n",
       "    .dataframe thead th {\n",
       "        text-align: right;\n",
       "    }\n",
       "</style>\n",
       "<table border=\"1\" class=\"dataframe\">\n",
       "  <thead>\n",
       "    <tr style=\"text-align: right;\">\n",
       "      <th></th>\n",
       "      <th>StoreID</th>\n",
       "      <th>Date</th>\n",
       "      <th>Sales</th>\n",
       "      <th>year</th>\n",
       "      <th>month</th>\n",
       "      <th>day</th>\n",
       "      <th>day_of_week</th>\n",
       "      <th>week</th>\n",
       "    </tr>\n",
       "  </thead>\n",
       "  <tbody>\n",
       "    <tr>\n",
       "      <th>0</th>\n",
       "      <td>1</td>\n",
       "      <td>2020-07-01</td>\n",
       "      <td>29559.916214</td>\n",
       "      <td>2020</td>\n",
       "      <td>7</td>\n",
       "      <td>1</td>\n",
       "      <td>2</td>\n",
       "      <td>27</td>\n",
       "    </tr>\n",
       "    <tr>\n",
       "      <th>1</th>\n",
       "      <td>1</td>\n",
       "      <td>2020-07-02</td>\n",
       "      <td>36765.847944</td>\n",
       "      <td>2020</td>\n",
       "      <td>7</td>\n",
       "      <td>2</td>\n",
       "      <td>3</td>\n",
       "      <td>27</td>\n",
       "    </tr>\n",
       "    <tr>\n",
       "      <th>2</th>\n",
       "      <td>1</td>\n",
       "      <td>2020-07-03</td>\n",
       "      <td>31261.577192</td>\n",
       "      <td>2020</td>\n",
       "      <td>7</td>\n",
       "      <td>3</td>\n",
       "      <td>4</td>\n",
       "      <td>27</td>\n",
       "    </tr>\n",
       "    <tr>\n",
       "      <th>3</th>\n",
       "      <td>1</td>\n",
       "      <td>2020-07-04</td>\n",
       "      <td>26516.164081</td>\n",
       "      <td>2020</td>\n",
       "      <td>7</td>\n",
       "      <td>4</td>\n",
       "      <td>5</td>\n",
       "      <td>27</td>\n",
       "    </tr>\n",
       "    <tr>\n",
       "      <th>4</th>\n",
       "      <td>1</td>\n",
       "      <td>2020-07-05</td>\n",
       "      <td>31614.797517</td>\n",
       "      <td>2020</td>\n",
       "      <td>7</td>\n",
       "      <td>5</td>\n",
       "      <td>6</td>\n",
       "      <td>27</td>\n",
       "    </tr>\n",
       "  </tbody>\n",
       "</table>\n",
       "</div>"
      ],
      "text/plain": [
       "   StoreID        Date         Sales  year  month  day  day_of_week  week\n",
       "0        1  2020-07-01  29559.916214  2020      7    1            2    27\n",
       "1        1  2020-07-02  36765.847944  2020      7    2            3    27\n",
       "2        1  2020-07-03  31261.577192  2020      7    3            4    27\n",
       "3        1  2020-07-04  26516.164081  2020      7    4            5    27\n",
       "4        1  2020-07-05  31614.797517  2020      7    5            6    27"
      ]
     },
     "execution_count": 6,
     "metadata": {},
     "output_type": "execute_result"
    }
   ],
   "source": [
    "df.head()"
   ]
  },
  {
   "cell_type": "markdown",
   "id": "recorded-bobby",
   "metadata": {},
   "source": [
    "# pipeline processing\n",
    "\n",
    "#### 1 getting the desired data\n",
    "\n",
    "1. determine the store id\n",
    "\n",
    "2. get the store id dataset\n",
    "\n",
    "3. group it by months' sales and prepare it\n",
    "\n",
    "\n",
    "#### 2 prepare it for forecasting\n",
    "\n",
    "1. shifting the values by the desired\n",
    "\n",
    "2. splitting the dataset into train and test"
   ]
  },
  {
   "cell_type": "markdown",
   "id": "formal-demonstration",
   "metadata": {},
   "source": [
    ".\n"
   ]
  },
  {
   "cell_type": "markdown",
   "id": "cooperative-raise",
   "metadata": {},
   "source": [
    "`1 getting the desired data`"
   ]
  },
  {
   "cell_type": "code",
   "execution_count": 33,
   "id": "editorial-designer",
   "metadata": {},
   "outputs": [],
   "source": [
    "store_id=1\n",
    "class store_id(BaseEstimator, TransformerMixin):\n",
    "    def __init__(self,ID=store_id):\n",
    "         \n",
    "        self.ID = ID\n",
    "\n",
    "    def fit(self,X,y=None):\n",
    "        \n",
    "        return self\n",
    "        \n",
    "    \n",
    "    def transform(self,x):\n",
    "    \n",
    "        x=x[x['StoreID']==self.ID][:-1] \n",
    "        \n",
    "        return x"
   ]
  },
  {
   "cell_type": "code",
   "execution_count": 25,
   "id": "assisted-supply",
   "metadata": {},
   "outputs": [],
   "source": [
    "class prepare(BaseEstimator, TransformerMixin):\n",
    "    \n",
    "    def fit(self,X,y=None):\n",
    "        \n",
    "        return self\n",
    "    \n",
    "    def transform(self,x):\n",
    "        from sklearn.preprocessing import MinMaxScaler\n",
    "        sc_out = MinMaxScaler(feature_range=(0, 1))\n",
    "        month_sale=x.groupby(['year','month'])['Sales'].sum().values\n",
    "        length=len(x.groupby(['year','month'])['Sales'].sum().index)\n",
    "        index=[]\n",
    "    \n",
    "        for i in range(length):\n",
    "            year=x.groupby(['year','month'])['Sales'].sum().index[i][0]\n",
    "            month=x.groupby(['year','month'])['Sales'].sum().index[i][1]\n",
    "            val=str(year)+'-'+str(month)\n",
    "            index.append(val)\n",
    "    \n",
    "        new_df=x.groupby(['year','month'])['Sales'].sum()\n",
    "        new_df.index=index\n",
    "        values=new_df.values\n",
    "        new_df.index=pd.to_datetime(new_df.index)\n",
    "        df=pd.DataFrame(index=new_df.index,columns=['sales'])\n",
    "        df['sales']=values\n",
    "        df['sales']=sc_out.fit_transform(df[['sales']])\n",
    "    \n",
    "        return df"
   ]
  },
  {
   "cell_type": "markdown",
   "id": "electoral-fleet",
   "metadata": {},
   "source": [
    "`2 prepare it for forecasting` "
   ]
  },
  {
   "cell_type": "code",
   "execution_count": 28,
   "id": "thrown-writer",
   "metadata": {},
   "outputs": [],
   "source": [
    "step=-1\n",
    "\n",
    "class shift(BaseEstimator, TransformerMixin):\n",
    "    \n",
    "    def __init__(self,steps=step):\n",
    "        \n",
    "        self.steps=steps\n",
    "\n",
    "    def fit (self,X,y=None):\n",
    "        \n",
    "        return self\n",
    "    \n",
    "    \n",
    "    def transform(self,x):\n",
    "  \n",
    "        df_pre=x.copy()\n",
    "        df_pre['actual']=x['sales'].shift(self.steps)\n",
    "    \n",
    "        return df_pre"
   ]
  },
  {
   "cell_type": "code",
   "execution_count": 24,
   "id": "under-penguin",
   "metadata": {},
   "outputs": [],
   "source": [
    "fra=0.8\n",
    "\n",
    "class train_test_split(BaseEstimator, TransformerMixin):\n",
    "    \n",
    "    def __init__(self,fraction=fra):\n",
    "        \n",
    "        self.fraction=fraction\n",
    "\n",
    "    def fit(self,X,y=None):\n",
    "        \n",
    "        return self\n",
    "    \n",
    "    def transform(self,x):\n",
    "\n",
    "        train_size=int(len(x)*self.fraction)\n",
    "        test_size = int(len(x)) - train_size\n",
    "    \n",
    "        y=x['actual']\n",
    "        y.index=x.index\n",
    "        y.rename({0:'sales_for_next_day'},inplace= True)\n",
    "        train_y = y[:train_size]\n",
    "        test_y = y[train_size:]\n",
    "    \n",
    "        return train_y, test_y"
   ]
  },
  {
   "cell_type": "code",
   "execution_count": 11,
   "id": "wicked-pointer",
   "metadata": {},
   "outputs": [],
   "source": [
    "from sklearn.pipeline import Pipeline"
   ]
  },
  {
   "cell_type": "code",
   "execution_count": 34,
   "id": "correct-monte",
   "metadata": {},
   "outputs": [],
   "source": [
    "pipe=Pipeline([\n",
    "    ('ID',store_id()),\n",
    "    ('prepare',prepare()),\n",
    "    ('shift',shift()),\n",
    "    ('train test split',train_test_split())\n",
    "])"
   ]
  },
  {
   "cell_type": "code",
   "execution_count": 35,
   "id": "strange-surveillance",
   "metadata": {},
   "outputs": [],
   "source": [
    "train_y,test_y=pipe.fit_transform(df)"
   ]
  },
  {
   "cell_type": "code",
   "execution_count": 36,
   "id": "certain-suite",
   "metadata": {},
   "outputs": [
    {
     "data": {
      "text/plain": [
       "2020-07-01    0.000000\n",
       "2020-08-01    0.103671\n",
       "2020-09-01    0.210662\n",
       "2020-10-01    0.031075\n",
       "2020-11-01    0.229593\n",
       "2020-12-01    0.244542\n",
       "2021-01-01    0.304574\n",
       "2021-02-01    0.392912\n",
       "2021-03-01    0.294765\n",
       "2021-04-01    0.293776\n",
       "2021-05-01    0.253601\n",
       "2021-06-01    0.508462\n",
       "2021-07-01    0.547457\n",
       "2021-08-01    0.586830\n",
       "2021-09-01    0.589019\n",
       "2021-10-01    0.668950\n",
       "2021-11-01    0.749474\n",
       "2021-12-01    0.424679\n",
       "2022-01-01    0.408926\n",
       "Name: actual, dtype: float64"
      ]
     },
     "execution_count": 36,
     "metadata": {},
     "output_type": "execute_result"
    }
   ],
   "source": [
    "train_y"
   ]
  },
  {
   "cell_type": "markdown",
   "id": "metallic-pursuit",
   "metadata": {},
   "source": [
    "with this prepared dataset, you can go on modeling (modeling section)"
   ]
  }
 ],
 "metadata": {
  "kernelspec": {
   "display_name": "Python 3",
   "language": "python",
   "name": "python3"
  },
  "language_info": {
   "codemirror_mode": {
    "name": "ipython",
    "version": 3
   },
   "file_extension": ".py",
   "mimetype": "text/x-python",
   "name": "python",
   "nbconvert_exporter": "python",
   "pygments_lexer": "ipython3",
   "version": "3.8.8"
  }
 },
 "nbformat": 4,
 "nbformat_minor": 5
}
